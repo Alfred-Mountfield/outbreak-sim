{
 "cells": [
  {
   "cell_type": "markdown",
   "metadata": {},
   "source": [
    "#### Coordinates from a raster"
   ]
  },
  {
   "cell_type": "code",
   "execution_count": 4,
   "metadata": {},
   "outputs": [
    {
     "name": "stdout",
     "output_type": "stream",
     "text": [
      "EPSG:4326\n"
     ]
    }
   ],
   "source": [
    "import geopandas as gpd\n",
    "import rioxarray as rxr\n",
    "import numpy as np\n",
    "from shapely.geometry import box, mapping\n",
    "\n",
    "bbox = box(-0.04, 51.48, 0.011, 51.52)  # a random box around a part of Tower Hamlets and Canary Wharf\n",
    "boundary = gpd.GeoDataFrame({'geometry': bbox}, index=[0])\n",
    "uk_wp = rxr.open_rasterio('../../data/gbr_ppp_2020_UNadj_constrained.tif', masked=True).squeeze()\n",
    "print(uk_wp.rio.crs)  # make sure the crs is EPSG:4326 (WGS84) to match the unprojected OSM boundary\n",
    "wp_clipped = uk_wp.rio.clip(boundary.geometry.apply(mapping))"
   ]
  },
  {
   "cell_type": "code",
   "execution_count": 6,
   "metadata": {},
   "outputs": [
    {
     "name": "stdout",
     "output_type": "stream",
     "text": [
      "(-0.014999984609635447, 51.519166661763144), (-0.01499998460963603, 51.51916666176315)\n"
     ]
    }
   ],
   "source": [
    "nx, ny = wp_clipped.sizes['x'], wp_clipped.sizes['y']\n",
    "x, y = wp_clipped.rio.transform() * np.meshgrid(np.arange(nx)+0.5, np.arange(ny)+0.5)\n",
    "raster_coords = np.stack((x,y), axis=2)\n",
    "\n",
    "test_x = 1\n",
    "test_y = 30\n",
    "print(f\"{tuple(raster_coords[test_x, test_y])}, ({float(wp_clipped[test_x, test_y].x)}, {float(wp_clipped[test_x, test_y].y)})\")"
   ]
  },
  {
   "cell_type": "code",
   "execution_count": null,
   "metadata": {},
   "outputs": [],
   "source": [
    "# aggregate.ipynb\n",
    "fig, ax = plt.subplots(figsize=(15, 15))\n",
    "wp_clipped.plot(ax=ax)\n",
    "residential_buildings.loc[dists.loc[1200, 'Elements in Radius'], 'geometry'].plot(ax=ax, facecolor='none', edgecolor='r');"
   ]
  }
 ],
 "metadata": {
  "kernelspec": {
   "display_name": "Python 3",
   "language": "python",
   "name": "python3"
  },
  "language_info": {
   "codemirror_mode": {
    "name": "ipython",
    "version": 3
   },
   "file_extension": ".py",
   "mimetype": "text/x-python",
   "name": "python",
   "nbconvert_exporter": "python",
   "pygments_lexer": "ipython3",
   "version": "3.8.2"
  }
 },
 "nbformat": 4,
 "nbformat_minor": 4
}
