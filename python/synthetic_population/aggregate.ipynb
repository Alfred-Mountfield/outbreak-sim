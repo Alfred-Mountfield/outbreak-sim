{
 "cells": [
  {
   "cell_type": "code",
   "execution_count": 8,
   "metadata": {},
   "outputs": [],
   "source": [
    "import pyrosm\n",
    "import geopandas as gpd\n",
    "import rasterio\n",
    "import rioxarray as rxr\n",
    "from matplotlib import pyplot as plt\n",
    "from shapely.geometry import mapping\n",
    "from rasterio.crs import CRS"
   ]
  },
  {
   "cell_type": "code",
   "execution_count": 4,
   "metadata": {},
   "outputs": [],
   "source": [
    "# # Read all boundaries using the default settings\n",
    "# boundaries = osm.get_boundaries()\n",
    "\n",
    "# # pick a small subset for testing\n",
    "# boundary = osm.get_boundaries(name=\"London Borough of Tower Hamlets\")\n",
    "# boundary.plot()\n",
    "\n",
    "import geopandas as gpd\n",
    "from shapely.geometry import box\n",
    "\n",
    "bbox = box(-0.0311018374,51.4945200196,-0.0039793398,51.5065151114)  # a random box around a part of Tower Hamlets and Canary Wharf\n",
    "boundary = gpd.GeoDataFrame({'geometry': bbox}, index=[0])"
   ]
  },
  {
   "cell_type": "code",
   "execution_count": 2,
   "metadata": {},
   "outputs": [
    {
     "name": "stdout",
     "output_type": "stream",
     "text": [
      "Downloaded Protobuf data 'London.osm.pbf' (66.79 MB) to:\n",
      "'/tmp/pyrosm/London.osm.pbf'\n"
     ]
    }
   ],
   "source": [
    "# Get London's OpenStreetMap data\n",
    "fp = pyrosm.get_data(\"London\", update=True)\n",
    "# Initialize the OSM object \n",
    "osm = pyrosm.OSM(fp)"
   ]
  },
  {
   "cell_type": "code",
   "execution_count": 9,
   "metadata": {},
   "outputs": [],
   "source": [
    "uk_wp = rxr.open_rasterio('../data/gbr_ppp_2020_UNadj_constrained.tif', masked=True).squeeze()\n",
    "uk_wp.rio.crs  # make sure the crs is EPSG:4326 (WGS84) to match the unprojected OSM boundary\n",
    "wp_clipped = uk_wp.rio.clip(boundary.geometry.apply(mapping))"
   ]
  },
  {
   "cell_type": "code",
   "execution_count": 10,
   "metadata": {},
   "outputs": [],
   "source": [
    "# Get the shapely geometry from GeoDataFrame\n",
    "bbox_geom = boundary['geometry'].values[0]\n",
    "\n",
    "# Initialise with bounding box\n",
    "osm = pyrosm.OSM(fp, bounding_box=bbox_geom)"
   ]
  },
  {
   "cell_type": "code",
   "execution_count": 11,
   "metadata": {},
   "outputs": [],
   "source": [
    "# get all residential buildings as well as ones without a specific tag\n",
    "residential_filter = {\"building\": [\"residential\", \"apartments\", \"flats\", \"house\", \"yes\"]}\n",
    "residential_buildings = osm.get_buildings(custom_filter=residential_filter)"
   ]
  },
  {
   "cell_type": "code",
   "execution_count": 13,
   "metadata": {},
   "outputs": [],
   "source": [
    "# crudely get all places that might be considered workplaces\n",
    "pois_filter = {\"shop\": True,\"amenity\": True, \"leisure\": True, \"tourism\": True}\n",
    "pois = osm.get_pois(custom_filter=pois_filter)\n",
    "office_filter = {\"office\": True}\n",
    "offices = osm.get_data_by_custom_criteria(custom_filter=office_filter)\n",
    "office_building_filter = {\"building\": [\"office\", \"offices\"]}\n",
    "office_buildings = osm.get_buildings(custom_filter=office_building_filter)"
   ]
  },
  {
   "cell_type": "code",
   "execution_count": 18,
   "metadata": {},
   "outputs": [
    {
     "name": "stderr",
     "output_type": "stream",
     "text": [
      "<ipython-input-18-fa8dc12bfe30>:8: UserWarning: Geometry is in a geographic CRS. Results from 'centroid' are likely incorrect. Use 'GeoSeries.to_crs()' to re-project geometries to a projected CRS before this operation.\n",
      "\n",
      "  trimmed_work['geometry'] = trimmed_work.geometry.centroid\n"
     ]
    }
   ],
   "source": [
    "# combine the locations of all of the crude workplaces\n",
    "trimmed_households = residential_buildings[['geometry']]\n",
    "trimmed_workplaces = pois[['geometry']]\n",
    "trimmed_offices = offices[['geometry']]\n",
    "trimmed_office_buildings = office_buildings[['geometry']]\n",
    "trimmed_work = trimmed_workplaces.append(trimmed_offices).append(trimmed_office_buildings)\n",
    "trimmed_work = trimmed_work.reset_index()\n",
    "trimmed_work['geometry'] = trimmed_work.geometry.centroid"
   ]
  },
  {
   "cell_type": "code",
   "execution_count": null,
   "metadata": {},
   "outputs": [],
   "source": [
    "class Person:\n",
    "    def __init__(pos, )"
   ]
  }
 ],
 "metadata": {
  "kernelspec": {
   "display_name": "Python 3",
   "language": "python",
   "name": "python3"
  },
  "language_info": {
   "codemirror_mode": {
    "name": "ipython",
    "version": 3
   },
   "file_extension": ".py",
   "mimetype": "text/x-python",
   "name": "python",
   "nbconvert_exporter": "python",
   "pygments_lexer": "ipython3",
   "version": "3.8.2"
  }
 },
 "nbformat": 4,
 "nbformat_minor": 4
}
